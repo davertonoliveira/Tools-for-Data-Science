{
 "cells": [
  {
   "cell_type": "markdown",
   "metadata": {},
   "source": [
    "<center>\n",
    "    <img src=\"https://s3-api.us-geo.objectstorage.softlayer.net/cf-courses-data/CognitiveClass/Logos/organization_logo/organization_logo.png\" width=\"300\" alt=\"cognitiveclass.ai logo\"  />\n",
    "</center>\n"
   ]
  },
  {
   "cell_type": "markdown",
   "metadata": {},
   "source": [
    "My Jupyter Notebook on SkillsNetwork Lab"
   ]
  },
  {
   "cell_type": "markdown",
   "metadata": {},
   "source": [
    "**Daverton**<br>\n",
    "programmer"
   ]
  },
  {
   "cell_type": "markdown",
   "metadata": {},
   "source": [
    "*I'm interested in data science because it's such a important topic these days, and using data in the best way helps you better understand problems and find better solutions.*"
   ]
  },
  {
   "cell_type": "markdown",
   "metadata": {},
   "source": [
    "<h3>In the next cell, the sum of two values ​​is made and the result is displayed.</h3>"
   ]
  },
  {
   "cell_type": "code",
   "execution_count": 3,
   "metadata": {},
   "outputs": [
    {
     "data": {
      "text/plain": [
       "4"
      ]
     },
     "execution_count": 3,
     "metadata": {},
     "output_type": "execute_result"
    }
   ],
   "source": [
    "sum = 2+2\n",
    "sum"
   ]
  },
  {
   "cell_type": "markdown",
   "metadata": {},
   "source": [
    "<h2>The three most expensive cars in the world in 2022</h2>\n",
    "\n",
    "| Index | Car  | Price | Image | link |\n",
    " :-----  | ---------------| -------------- | ------------------ | ------------: \n",
    " 1 | Rolls-Royce Boat Tail | US\\$ 28 million | <img src=\"https://garagem360.com.br/wp-content/uploads/2022/08/rolls-royce_boat_tail_63.jpeg\" alt=\"Rolls-Royce Boat Tail\" style=\"height: 80px; width:80px;\"/> | [Click Here](https://www.google.com/search?q=rolls-royce+boat+tail&oq=Rolls-Royce+Boat+Tail&aqs=chrome.0.0i512j0i457i512j0i512l5j69i60.2693j0j7&sourceid=chrome&ie=UTF-8) \n",
    " 2 | Bugatti La Voiture Noire | US\\$ 18,7 million | <img src=\"https://www.bugatti.com/fileadmin/_processed_/sei/p322/se-image-9100331bd618705214b47241fd367d6f.jpg\" alt=\"Bugatti La Voiture Noire\" style=\"height: 80px; width:80px;\"/>| [Click Here](https://www.google.com/search?q=Bugatti+La+Voiture+Noire&source=lmns&bih=696&biw=1519&hl=en&sa=X&ved=2ahUKEwiN2vWhldP6AhWoN7kGHaiqCuEQ_AUoAHoECAEQAA) \n",
    " 3 | Lamborghini Veneno | US\\$ 4,5 million | <img src=\"https://s2.glbimg.com/s64TYb1Xhf5qz_P9stTrN4Eddzs=/fit-in/940x590/e.glbimg.com/og/ed/f/original/2013/03/04/lamborghini_veneno6.jpg\" alt=\"Lamborghini Veneno\" style=\"height: 80px; width:80px;\"/> | [Click Here](https://www.google.com/search?q=lamborghini+veneno&source=lmns&bih=696&biw=1536&hl=en&sa=X&ved=2ahUKEwiqy_rpmNP6AhUwOLkGHV3ICXcQ_AUoAHoECAEQAA) "
   ]
  },
  {
   "cell_type": "code",
   "execution_count": null,
   "metadata": {},
   "outputs": [],
   "source": []
  }
 ],
 "metadata": {
  "kernelspec": {
   "display_name": "Python",
   "language": "python",
   "name": "conda-env-python-py"
  },
  "language_info": {
   "codemirror_mode": {
    "name": "ipython",
    "version": 3
   },
   "file_extension": ".py",
   "mimetype": "text/x-python",
   "name": "python",
   "nbconvert_exporter": "python",
   "pygments_lexer": "ipython3",
   "version": "3.7.12"
  }
 },
 "nbformat": 4,
 "nbformat_minor": 4
}
